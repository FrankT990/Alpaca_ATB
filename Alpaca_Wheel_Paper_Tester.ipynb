{
  "nbformat": 4,
  "nbformat_minor": 0,
  "metadata": {
    "colab": {
      "provenance": [],
      "authorship_tag": "ABX9TyMK8n+HbZeIEXL68ztNznYm",
      "include_colab_link": true
    },
    "kernelspec": {
      "name": "python3",
      "display_name": "Python 3"
    },
    "language_info": {
      "name": "python"
    }
  },
  "cells": [
    {
      "cell_type": "markdown",
      "metadata": {
        "id": "view-in-github",
        "colab_type": "text"
      },
      "source": [
        "<a href=\"https://colab.research.google.com/github/FrankT990/Alpaca_ATB/blob/main/Alpaca_Wheel_Paper_Tester.ipynb\" target=\"_parent\"><img src=\"https://colab.research.google.com/assets/colab-badge.svg\" alt=\"Open In Colab\"/></a>"
      ]
    },
    {
      "cell_type": "code",
      "source": [
        "!pip install requests\n",
        "!pip install pandas\n",
        "import time\n",
        "import json\n",
        "import requests\n",
        "import pandas as pd\n",
        "import math\n",
        "import time\n",
        "from datetime import datetime, timedelta\n"
      ],
      "metadata": {
        "id": "c1qTrwxSsL4R"
      },
      "execution_count": null,
      "outputs": []
    },
    {
      "cell_type": "code",
      "source": [
        "#########################\n",
        "#### BEGIN VARIABLES ####\n",
        "#########################\n",
        "\n",
        "headers = {\n",
        "    \"APCA-API-KEY-ID\": \"PKX38EM432GQ49SYV8SA\",\n",
        "    \"APCA-API-SECRET-KEY\": \"lXwrv1l82QIQvvwakv6hWQ8s6JYSmEEW9MAu7vX8\"\n",
        "}\n",
        "\n",
        "url = \"https://paper-api.alpaca.markets\"\n",
        "#########################\n",
        "##### END VARIABLES #####\n",
        "#########################\n",
        "\n",
        "def trades_active():\n",
        "    response = requests.get(url+\"/positions\", headers=headers)\n",
        "    if (response.status_code == 200):\n",
        "      positions = response.json()\n",
        "      for position in positions:\n",
        "         if (len(position['symbol']) > 4):\n",
        "            return True\n",
        "      return False\n",
        "    else:\n",
        "       time.sleep(60)\n",
        "       trades_active()\n",
        "\n",
        "def puts_cycle(tkr):\n",
        "   response = requests.get(url+\"/positions\", headers=headers)\n",
        "   if (response.status_code == 200):\n",
        "      positions = response.json()\n",
        "      for position in positions:\n",
        "         if (position['symbol']==tkr):\n",
        "            if(int(position['qty']) >= 100):\n",
        "               return True\n",
        "      return False\n",
        "   else:\n",
        "      time.sleep(60)\n",
        "      puts_cycle(tkr)\n",
        "\n",
        "\n",
        "def get_current_price(tkr):\n",
        "    endpoint = f\"{url}/v2/stocks/{tkr}/quotes/latest\"\n",
        "    price_data = requests.get(endpoint, headers=headers).json()\n",
        "    return price_data\n",
        "\n",
        "def get_exp_date():\n",
        "   return (datetime.now() + timedelta(days=7)).strftime('%Y-%m-%d')\n",
        "\n",
        "def sell_puts(tkr):\n",
        "    date = get_exp_date() # ONE WEEK INTO FURUTRE YYYY-MM-DD # exp_date = get_exp_date\n",
        "    curr_price = get_current_price(tkr) # USE AS UPPER BOUND\n",
        "    strike_price = math.floor(curr_price - (math.ceil(curr_price * .01))) # USE AS LOWER BOUND\n",
        "\n",
        "    puts_url = url+f\"/options/contracts?underlying_symbol={tkr}&expiration_date={date}&type=put&strike_price_gte={strike_price}&strike_price_lte={curr_price}&limit=20\"\n",
        "    puts_resp = requests.get(puts_url, headers=headers)\n",
        "    if (puts_resp.status_code == 200): #add successful request check (if response 200 and len >= 1 continue, else wait and call function)\n",
        "       #submit order\n",
        "       puts_data = puts_resp.json()['option_contracts']\n",
        "       if (len(puts_data) >= 1 ):\n",
        "        sell_puts_payload = {\n",
        "            \"symbol\": puts_data[len(puts_data)-1]['symbol'], # EX OF id: \"AAPL231201P00175000\"\n",
        "            \"qty\": \"1\",\n",
        "            \"side\": \"sell\",\n",
        "            \"type\": \"market\",\n",
        "            \"time_in_force\": \"day\"\n",
        "            }\n",
        "        response = requests.post(url+\"/orders\", json=sell_puts_payload, headers=headers)\n",
        "       else:\n",
        "          time.sleep(300)\n",
        "          sell_puts(tkr)\n",
        "    else:\n",
        "       time.sleep(300)\n",
        "       sell_puts(tkr)\n",
        "\n",
        "def sell_calls(tkr):\n",
        "    date = get_exp_date() # ONE WEEK INTO FURUTRE YYYY-MM-DD # exp_date = get_exp_date\n",
        "    strike_price = math.ceil(get_current_price())\n",
        "    calls_url = url+f\"/options/contracts?underlying_symbol={tkr}&expiration_date={date}&strike_price_gte={strike_price}&strike_price_lte={strike_price+1}&limit=20\"\n",
        "    calls_response = requests.get(calls_url, headers=headers)\n",
        "    if (calls_response.status_code == 200): #add successful request check (if response 200 and len >= 1 continue, else wait and call function)\n",
        "       calls_data = calls_response.json()['option_contracts']\n",
        "       if (len(calls_data) >=1):\n",
        "        sell_calls_payload = {\n",
        "        \"symbol\": calls_data[len(calls_data)-1]['symbol'], # EX OF id: \"AAPL231201P00175000\"\n",
        "        \"qty\": \"1\",\n",
        "        \"side\": \"sell\",\n",
        "        \"type\": \"market\",\n",
        "        \"time_in_force\": \"day\"\n",
        "        }\n",
        "        response = requests.post(url+\"/orders\", json=sell_calls_payload, headers=headers)\n",
        "       else:\n",
        "          time.sleep(300)\n",
        "          sell_calls(tkr)\n",
        "    else:\n",
        "       time.sleep(300)\n",
        "       sell_calls(tkr)\n"
      ],
      "metadata": {
        "id": "Gah2ODw9_8nP"
      },
      "execution_count": 6,
      "outputs": []
    },
    {
      "cell_type": "code",
      "source": [
        "tkr = \"NVDA\"\n",
        "while(True):\n",
        "  if (trades_active()): #If trade active wait\n",
        "    time.sleep(3600)\n",
        "  elif(puts_cycle(tkr)): #If  own 100 stocks\n",
        "    sell_puts(tkr)\n",
        "  else:\n",
        "    sell_calls(tkr)\n"
      ],
      "metadata": {
        "id": "gHO0JceglV29"
      },
      "execution_count": null,
      "outputs": []
    }
  ]
}